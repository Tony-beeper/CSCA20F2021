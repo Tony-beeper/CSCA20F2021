{
 "cells": [
  {
   "cell_type": "code",
   "execution_count": 2,
   "id": "b513c7d7",
   "metadata": {},
   "outputs": [
    {
     "name": "stdout",
     "output_type": "stream",
     "text": [
      "Enter the number of rounds: q\n"
     ]
    },
    {
     "ename": "ValueError",
     "evalue": "invalid literal for int() with base 10: 'q'",
     "output_type": "error",
     "traceback": [
      "\u001b[1;31m---------------------------------------------------------------------------\u001b[0m",
      "\u001b[1;31mValueError\u001b[0m                                Traceback (most recent call last)",
      "\u001b[1;32m<ipython-input-2-0dee23ac5631>\u001b[0m in \u001b[0;36m<module>\u001b[1;34m\u001b[0m\n\u001b[0;32m      4\u001b[0m \u001b[0mrounds\u001b[0m \u001b[1;33m=\u001b[0m \u001b[1;33m-\u001b[0m\u001b[1;36m1\u001b[0m\u001b[1;33m\u001b[0m\u001b[1;33m\u001b[0m\u001b[0m\n\u001b[0;32m      5\u001b[0m \u001b[1;32mwhile\u001b[0m\u001b[1;33m(\u001b[0m\u001b[0mrounds\u001b[0m\u001b[1;33m>\u001b[0m\u001b[1;36m5\u001b[0m \u001b[1;32mor\u001b[0m \u001b[0mrounds\u001b[0m\u001b[1;33m<\u001b[0m\u001b[1;36m0\u001b[0m\u001b[1;33m)\u001b[0m\u001b[1;33m:\u001b[0m\u001b[1;33m\u001b[0m\u001b[1;33m\u001b[0m\u001b[0m\n\u001b[1;32m----> 6\u001b[1;33m     \u001b[0mrounds\u001b[0m \u001b[1;33m=\u001b[0m \u001b[0mint\u001b[0m\u001b[1;33m(\u001b[0m\u001b[0minput\u001b[0m\u001b[1;33m(\u001b[0m\u001b[1;34m\"Enter the number of rounds: \"\u001b[0m\u001b[1;33m)\u001b[0m\u001b[1;33m)\u001b[0m\u001b[1;33m\u001b[0m\u001b[1;33m\u001b[0m\u001b[0m\n\u001b[0m\u001b[0;32m      7\u001b[0m \u001b[1;33m\u001b[0m\u001b[0m\n\u001b[0;32m      8\u001b[0m \u001b[0maverage_gap\u001b[0m \u001b[1;33m=\u001b[0m \u001b[1;36m0\u001b[0m\u001b[1;33m\u001b[0m\u001b[1;33m\u001b[0m\u001b[0m\n",
      "\u001b[1;31mValueError\u001b[0m: invalid literal for int() with base 10: 'q'"
     ]
    }
   ],
   "source": [
    "\n",
    "rounds = -1\n",
    "while(rounds>5 or rounds<0):\n",
    "    rounds = int(input(\"Enter the number of rounds: \"))\n",
    "\n",
    "average_gap = 0\n",
    "total_adj =0\n",
    "for i in range(rounds):\n",
    "    print(\"Rond#\"+str(i+1))\n",
    "    target_freq = int(input(\"choose a target frequency\\n\"))\n",
    "    print(\"\\n\\n\\n\\n\\n\\n\\n\\n\\n\\n\\n---------------------------------------------------------------------\")\n",
    "    freq = 0\n",
    "    print(\"current_freq is: \"+str(freq)+\"\\n\")\n",
    "    num_adj = 0\n",
    "    while(freq <= target_freq):\n",
    "        increment = int(input(\"Please enter increase amount\\n\"))\n",
    "        freq = freq + increment\n",
    "        num_adj = num_adj+1\n",
    "        print(\"current_freq is: \"+str(freq)+\"\\n\")\n",
    "        \n",
    "    print(\"Frequency has passed the desired target, Current_freq is: \"+str(freq)+\"\\n\")\n",
    "\n",
    "    while(freq >= target_freq):\n",
    "        decrement = int(input(\"choose a decrease amount\\n\"))\n",
    "        freq = freq - decrement\n",
    "        num_adj = num_adj+1\n",
    "        print(\"current_freq is: \"+str(freq)+\"\\n\")\n",
    "        \n",
    "    print(\"Final Frequency: \"+str(freq)+\"\\n\")\n",
    "    print(\"Target Frequency: \"+str(target_freq)+\"\\n\")\n",
    "    gap = target_freq - freq\n",
    "    print(\"# Adjustments this round \"+ str(num_adj)+\"\\n\")\n",
    "    print(\"Gap:\"+str(gap)+\"\\n\")\n",
    "    average_gap += (target_freq - freq)\n",
    "    total_adj += num_adj\n",
    "    \n",
    "average_gap = average_gap / rounds\n",
    "print(\"Your total adjustments made in all rounds: \"+ str(total_adj))\n",
    "print(\"Your average_gap is :\" + str(average_gap))"
   ]
  },
  {
   "cell_type": "code",
   "execution_count": null,
   "id": "3e202f7e",
   "metadata": {},
   "outputs": [],
   "source": []
  }
 ],
 "metadata": {
  "kernelspec": {
   "display_name": "Python 3",
   "language": "python",
   "name": "python3"
  }
 },
 "nbformat": 4,
 "nbformat_minor": 5
}
