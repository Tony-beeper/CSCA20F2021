{
 "cells": [
  {
   "cell_type": "code",
   "execution_count": 3,
   "id": "cc9b122f",
   "metadata": {},
   "outputs": [
    {
     "name": "stdout",
     "output_type": "stream",
     "text": [
      "Enter A1 grade for Alice:49\n",
      "Enter A2 grade for Alice:49\n",
      "Enter A3 grade for Alice:39\n",
      "Alice's best grade was: 49\n",
      "Alice's average was: 45.666666666666664\n",
      "Enter A1 grade for Bob:93\n",
      "Enter A2 grade for Bob:39\n",
      "Enter A3 grade for Bob:29\n",
      "Bob's best grade was: 93\n",
      "Bob's average was: 53.666666666666664\n",
      "Enter A1 grade for Carol:39\n",
      "Enter A2 grade for Carol:29\n",
      "Enter A3 grade for Carol:39\n",
      "Carol's best grade was: 39\n",
      "Carol's average was: 35.666666666666664\n",
      "Enter A1 grade for Dave:1\n",
      "Enter A2 grade for Dave:2\n",
      "Enter A3 grade for Dave:3\n",
      "Dave's best grade was: 3\n",
      "Dave's average was: 2.0\n",
      "The maxium average was: 53.666666666666664\n"
     ]
    }
   ],
   "source": [
    "\n",
    "def record_student(student, assignment, max_grade):\n",
    "    assignment_grade = int(input(\"Enter A\"+str(assignment)+\" grade for \" + student + \":\"))\n",
    "    while(assignment_grade < 0 or assignment_grade > 100):\n",
    "        assignment_grade = int(input(\"Invalid grade - please try again:\"))\n",
    "    if(assignment_grade > max_grade):\n",
    "        max_grade = assignment_grade\n",
    "    return max_grade, assignment_grade\n",
    "        \n",
    "def record_class(class_list, grades, max_average, number_of_assignments):\n",
    "    \n",
    "    for next_student in class_list:\n",
    "        max_grade = -1\n",
    "        average = 0\n",
    "        for assignment in range(1,number_of_assignments+1):\n",
    "            #ask for each assignment grade\n",
    "            #record max grade\n",
    "            max_grade, assignment_grade = record_student(next_student, assignment, max_grade)\n",
    "            average+=assignment_grade\n",
    "        average = average / number_of_assignments\n",
    "        grades.append(average)\n",
    "        print(next_student + \"'s best grade was: \" + str(max_grade))\n",
    "        print(next_student + \"'s average was: \" + str(average))\n",
    "        if(average > max_average):\n",
    "            max_average = average\n",
    "    return max_average, grades #(MAX_AVERAGE，grdes)\n",
    "    \n",
    "    print(\"The maxium average was: \" + str(max_average))\n",
    "    \n",
    "    \n",
    "\n",
    "def main():\n",
    "    class_list = [\"Alice\", \"Bob\", \"Carol\", \"Dave\"]\n",
    "    grades = []\n",
    "    max_average = -1\n",
    "    number_of_assignments = 3\n",
    "    max_average, grades= record_class(class_list, grades, max_average, number_of_assignments) #report = record_class\n",
    "    \n",
    "if __name__ == \"__main__\":\n",
    "    main()\n",
    "        \n"
   ]
  },
  {
   "cell_type": "code",
   "execution_count": null,
   "id": "63a1bffa",
   "metadata": {},
   "outputs": [],
   "source": []
  },
  {
   "cell_type": "code",
   "execution_count": null,
   "id": "81f6fce7",
   "metadata": {},
   "outputs": [],
   "source": []
  }
 ],
 "metadata": {
  "kernelspec": {
   "display_name": "Python 3",
   "language": "python",
   "name": "python3"
  },
  "language_info": {
   "codemirror_mode": {
    "name": "ipython",
    "version": 3
   },
   "file_extension": ".py",
   "mimetype": "text/x-python",
   "name": "python",
   "nbconvert_exporter": "python",
   "pygments_lexer": "ipython3",
   "version": "3.8.8"
  }
 },
 "nbformat": 4,
 "nbformat_minor": 5
}
