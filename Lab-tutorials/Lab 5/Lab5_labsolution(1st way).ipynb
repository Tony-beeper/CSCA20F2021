{
 "cells": [
  {
   "cell_type": "code",
   "execution_count": 21,
   "id": "301c3282-db66-4cfd-ad44-a1886654c667",
   "metadata": {},
   "outputs": [
    {
     "name": "stdout",
     "output_type": "stream",
     "text": [
      "[1, 1, 1, 1]\n",
      "TIE\n"
     ]
    }
   ],
   "source": [
    "def add_win(name, names_wins_dict):\n",
    "    \"\"\"\n",
    "    input: name - a string representing the name of the winner\n",
    "            names_list: a list of the names of all participants\n",
    "            wins_list: a list of the number of wins of all participants\n",
    "    If name is a contestant appearing in names_list, increase their number of wins in\n",
    "    wins_list by 1, and return True\n",
    "    If name is not a contestant appearing in names_list, return False\n",
    "    \"\"\"\n",
    "    found = False\n",
    "    index = 0\n",
    "    while(index < len(names_wins_dict['names']) and (not found)):\n",
    "        #if we found it, increase score and stop searching\n",
    "        if(names_wins_dict['names'][index] == name):\n",
    "            names_wins_dict['wins'][index] += 1\n",
    "            found = True\n",
    "        else:\n",
    "            #we didn't find it, move on to the next contestant in the list\n",
    "            index += 1\n",
    "    #we're done now, return whether or now we found the person we were looking for\n",
    "    return found\n",
    "\n",
    "def add_player(name, names_wins_dict):\n",
    "    \"\"\"\n",
    "    input: name - a string representing the name of a new player\n",
    "    names_list - a list of names of all participant\n",
    "    wins_list - a list of the number of wins of all participants\n",
    "    \n",
    "    If name isn't already in names_list, add it to the end, and return True\n",
    "    If name is already in names_list, return False\n",
    "    \"\"\"\n",
    "    found = False\n",
    "    #just to show a different way of doing this, we'll use an elemental for loop\n",
    "    #it's easier to write, though probably less efficient for the computer, because\n",
    "    #it will keep going through the list even after we've found what we're looking for\n",
    "    for next_name in names_wins_dict['names']:\n",
    "        #if we found the name at this point, just remember that we found it\n",
    "        if(next_name == name):\n",
    "            found = True\n",
    "    #if we never found the name, we can safely add it to the list\n",
    "    if(not found):\n",
    "        names_wins_dict['names'].append(name)\n",
    "        #don't forget to add a starting score of -1 for them\n",
    "        names_wins_dict['wins'].append(0)\n",
    "    #here we want to return the opposite of found (True if it's a new name and we didn't\n",
    "    #find it, False if it was already in there)\n",
    "    return not found\n",
    "\n",
    "def find_winner(names_wins_dict):\n",
    "    \"\"\"\n",
    "    input: names_list - a list of all contestant names\n",
    "    wins_list - a list of the number of wins for each contestant\n",
    "    \n",
    "    return the name of the winner (player with the most wins), if there is a tie\n",
    "    for most wins, return the word TIE\n",
    "    \n",
    "    *NOTE* This function will fail if we have a contestant named \"TIE\"\n",
    "    \"\"\"\n",
    "    max_wins = -1\n",
    "    winner = \"NOBODY\"\n",
    "    for index in range(0, len(names_wins_dict['wins']), 1):\n",
    "        #we have a new winner\n",
    "        if(names_wins_dict['wins'][index] > max_wins):\n",
    "            max_wins = names_wins_dict['wins'][index]\n",
    "            winner = names_wins_dict['names'][index]\n",
    "        #we have a tie at the top of the winners list\n",
    "        elif(names_wins_dict['wins'][index] == max_wins):\n",
    "            winner = \"TIE\"\n",
    "    return winner\n",
    "\n",
    "namesnwins = {'names':['a','b','c'], 'wins':[1,1,1] }\n",
    "\n",
    "find_winner(namesnwins)\n",
    "add_player('tony', namesnwins)\n",
    "add_win('tony',namesnwins)\n",
    "print(namesnwins['wins'])\n",
    "print(find_winner(namesnwins))\n"
   ]
  },
  {
   "cell_type": "code",
   "execution_count": null,
   "id": "aaeb19f3-99b1-4a52-b626-c38724beab84",
   "metadata": {},
   "outputs": [],
   "source": []
  }
 ],
 "metadata": {
  "kernelspec": {
   "display_name": "Python 3",
   "language": "python",
   "name": "python3"
  },
  "language_info": {
   "codemirror_mode": {
    "name": "ipython",
    "version": 3
   },
   "file_extension": ".py",
   "mimetype": "text/x-python",
   "name": "python",
   "nbconvert_exporter": "python",
   "pygments_lexer": "ipython3",
   "version": "3.8.8"
  }
 },
 "nbformat": 4,
 "nbformat_minor": 5
}
