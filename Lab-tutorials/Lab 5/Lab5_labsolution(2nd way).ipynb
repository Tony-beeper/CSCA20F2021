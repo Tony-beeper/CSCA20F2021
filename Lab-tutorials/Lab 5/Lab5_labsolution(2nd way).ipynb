{
 "cells": [
  {
   "cell_type": "code",
   "execution_count": 5,
   "id": "3b9a10c9",
   "metadata": {},
   "outputs": [
    {
     "name": "stdout",
     "output_type": "stream",
     "text": [
      "{'a': 0, 'b': 1, 'c': 0, 'd': 0, 'tony': 1}\n",
      "TIE\n"
     ]
    }
   ],
   "source": [
    "def add_win(name, names_wins_dict):\n",
    "    \"\"\"\n",
    "    input: name - a string representing the name of the winner\n",
    "            names_list: a list of the names of all participants\n",
    "            wins_list: a list of the number of wins of all participants\n",
    "    If name is a contestant appearing in names_list, increase their number of wins in\n",
    "    wins_list by 1, and return True\n",
    "    If name is not a contestant appearing in names_list, return False\n",
    "    \"\"\"\n",
    "    found = False\n",
    "    index = 0\n",
    "    if(name in names_wins_dict):\n",
    "        names_wins_dict[name]+=1\n",
    "        found = True\n",
    "        \n",
    "\n",
    "    return found\n",
    "\n",
    "def add_player(name, names_wins_dict):\n",
    "    \"\"\"\n",
    "    input: name - a string representing the name of a new player\n",
    "    names_list - a list of names of all participant\n",
    "    wins_list - a list of the number of wins of all participants\n",
    "    \n",
    "    If name isn't already in names_list, add it to the end, and return True\n",
    "    If name is already in names_list, return False\n",
    "    \"\"\"\n",
    "    found = False\n",
    "    #just to show a different way of doing this, we'll use an elemental for loop\n",
    "    #it's easier to write, though probably less efficient for the computer, because\n",
    "    #it will keep going through the list even after we've found what we're looking for\n",
    "    if(name in names_wins_dict):\n",
    "        found = true\n",
    "    else:\n",
    "        names_wins_dict[name] = 0\n",
    "    return not found\n",
    "\n",
    "def find_winner(names_wins_dict):\n",
    "    \"\"\"\n",
    "    input: names_list - a list of all contestant names\n",
    "    wins_list - a list of the number of wins for each contestant\n",
    "    \n",
    "    return the name of the winner (player with the most wins), if there is a tie\n",
    "    for most wins, return the word TIE\n",
    "    \n",
    "    *NOTE* This function will fail if we have a contestant named \"TIE\"\n",
    "    \"\"\"\n",
    "    max_wins = -1\n",
    "    winner = \"NOBODY\"\n",
    "    for key in names_wins_dict:\n",
    "        if(names_wins_dict[key] > max_wins):\n",
    "            winner = key\n",
    "            max_wins = names_wins_dict[key]\n",
    "        elif(names_wins_dict[key] == max_wins):\n",
    "            winner = \"TIE\"\n",
    "    return winner\n",
    "\n",
    "namesnwins = {'a':0, 'b':0, 'c':0, 'd':0}\n",
    "\n",
    "find_winner(namesnwins)\n",
    "add_player('tony', namesnwins)\n",
    "add_win('tony',namesnwins)\n",
    "add_win('b', namesnwins)\n",
    "print(namesnwins)\n",
    "print(find_winner(namesnwins))\n"
   ]
  },
  {
   "cell_type": "code",
   "execution_count": null,
   "id": "5850a1b4",
   "metadata": {},
   "outputs": [],
   "source": []
  }
 ],
 "metadata": {
  "kernelspec": {
   "display_name": "Python 3",
   "language": "python",
   "name": "python3"
  },
  "language_info": {
   "codemirror_mode": {
    "name": "ipython",
    "version": 3
   },
   "file_extension": ".py",
   "mimetype": "text/x-python",
   "name": "python",
   "nbconvert_exporter": "python",
   "pygments_lexer": "ipython3",
   "version": "3.8.8"
  }
 },
 "nbformat": 4,
 "nbformat_minor": 5
}
