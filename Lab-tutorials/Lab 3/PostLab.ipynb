{
 "cells": [
  {
   "cell_type": "code",
   "execution_count": null,
   "id": "4a29b89a-045d-4881-97ee-1fd45bb8ede9",
   "metadata": {},
   "outputs": [
    {
     "name": "stdin",
     "output_type": "stream",
     "text": [
      "Please Enter a command A\n",
      "Please Enter a grade 30\n"
     ]
    },
    {
     "name": "stdout",
     "output_type": "stream",
     "text": [
      "FAIL, Your gpa is 0\n"
     ]
    },
    {
     "name": "stdin",
     "output_type": "stream",
     "text": [
      "Please Enter a command A\n",
      "Please Enter a grade 60\n"
     ]
    },
    {
     "name": "stdout",
     "output_type": "stream",
     "text": [
      "PASS, Your gpa is 1.7\n"
     ]
    },
    {
     "name": "stdin",
     "output_type": "stream",
     "text": [
      "Please Enter a command A\n",
      "Please Enter a grade 38\n"
     ]
    },
    {
     "name": "stdout",
     "output_type": "stream",
     "text": [
      "FAIL, Your gpa is 0\n"
     ]
    },
    {
     "name": "stdin",
     "output_type": "stream",
     "text": [
      "Please Enter a command A\n",
      "Please Enter a grade 99\n"
     ]
    },
    {
     "name": "stdout",
     "output_type": "stream",
     "text": [
      "PASS, Your gpa is 4.0\n"
     ]
    },
    {
     "name": "stdin",
     "output_type": "stream",
     "text": [
      "Please Enter a command A\n",
      "Please Enter a grade 67\n"
     ]
    },
    {
     "name": "stdout",
     "output_type": "stream",
     "text": [
      "PASS, Your gpa is 2.3\n"
     ]
    },
    {
     "name": "stdin",
     "output_type": "stream",
     "text": [
      "Please Enter a command A\n",
      "Please Enter a grade 88\n"
     ]
    },
    {
     "name": "stdout",
     "output_type": "stream",
     "text": [
      "PASS, Your gpa is 4.0\n"
     ]
    },
    {
     "name": "stdin",
     "output_type": "stream",
     "text": [
      "Please Enter a command R\n"
     ]
    },
    {
     "name": "stdout",
     "output_type": "stream",
     "text": [
      "You have entered 6 valid grades so far\n",
      "Number of passing grades is 4\n",
      "Average Gpa is 3.0\n",
      "Average grade is 63.666666666666664\n",
      "Number of students got GPA 0 is 2\n",
      "Number of students got GPA 0.7 is 0\n",
      "Number of students got GPA 1.0 is 0\n",
      "Number of students got GPA 1.3 is 0\n",
      "Number of students got GPA 1.7 is 1\n",
      "Number of students got GPA 2.0 is 0\n",
      "Number of students got GPA 2.3 is 1\n",
      "Number of students got GPA 2.7 is 0\n",
      "Number of students got GPA 3.0 is 0\n",
      "Number of students got GPA 3.3 is 0\n",
      "Number of students got GPA 3.7 is 0\n",
      "Number of students got GPA 4.0 is 2\n"
     ]
    },
    {
     "data": {
      "image/png": "[encoded data removed]",
      "text/plain": [
       "<Figure size 432x288 with 1 Axes>"
      ]
     },
     "metadata": {
      "needs_background": "light"
     },
     "output_type": "display_data"
    }
   ],
   "source": [
    "import matplotlib.pyplot as plt\n",
    "command = \"default\"\n",
    "grades = []\n",
    "gpa_list = []\n",
    "passing_counter = 0\n",
    "gpa = -1\n",
    "average_gpa = 0\n",
    "average_grade = 0\n",
    "gpa_x_axis = [0,0.7,1.0,1.3,1.7,2.0,2.3,2.7,3.0,3.3,3.7,4.0]\n",
    "gpa_y_axis = [0,0,0,0,0,0,0,0,0,0,0,0]\n",
    "while(command!=(\"Q\")):\n",
    "    command = input(\"Please Enter a command\")\n",
    "    if(command == \"A\"):\n",
    "        grade = int(input(\"Please Enter a grade\"))\n",
    "        if(grade <= 100 and grade >= 0):\n",
    "            grades.append(grade)\n",
    "            if(grade >= 50):\n",
    "                if(grade >= 85):\n",
    "                    gpa = 4.0\n",
    "                    gpa_y_axis[11] +=1\n",
    "\n",
    "                elif(grade >= 80):\n",
    "                    gpa = 3.7\n",
    "                    gpa_y_axis[10] +=1\n",
    "\n",
    "                elif(grade >= 77):\n",
    "                    gpa = 3.3\n",
    "                    gpa_y_axis[9] +=1\n",
    "\n",
    "                elif(grade >= 73):\n",
    "                    gpa = 3.0\n",
    "                    gpa_y_axis[8] +=1\n",
    "\n",
    "                elif(grade >= 70):\n",
    "                    gpa = 2.7\n",
    "                    gpa_y_axis[7] +=1\n",
    "\n",
    "                elif(grade >= 67):\n",
    "                    gpa = 2.3\n",
    "                    gpa_y_axis[6] +=1\n",
    "\n",
    "                elif(grade >= 63):\n",
    "                    gpa = 2.0\n",
    "                    gpa_y_axis[5] +=1\n",
    "\n",
    "                elif(grade >= 60):\n",
    "                    gpa = 1.7 \n",
    "                    gpa_y_axis[4] +=1\n",
    "\n",
    "                elif(grade >= 57):\n",
    "                    gpa = 1.3\n",
    "                    gpa_y_axis[3] +=1\n",
    "\n",
    "                elif(grade >= 53):\n",
    "                    gpa = 1.0\n",
    "                    gpa_y_axis[2] +=1\n",
    "                else:\n",
    "                    gpa = 0.7\n",
    "                    gpa_y_axis[1] +=1\n",
    "                passing_counter+=1\n",
    "                print(\"PASS, Your gpa is \"+str(gpa))\n",
    "                gpa_list.append(gpa)\n",
    "            else:\n",
    "                print(\"FAIL, Your gpa is 0\")\n",
    "                gpa_y_axis[0] +=1\n",
    "        else:\n",
    "            print(\"Invalid Grade\")\n",
    "        \n",
    "\n",
    "    elif(command == \"R\"):\n",
    "\n",
    "        print(\"You have entered \"+str(len(grades))+\" valid grades so far\")\n",
    "        print(\"Number of passing grades is \"+ str(passing_counter))\n",
    "        for grade in grades:\n",
    "            average_grade += grade\n",
    "        average_grade = float(average_grade)/(len(grades))\n",
    "        for g in gpa_list:\n",
    "            average_gpa += g\n",
    "        average_gpa = float(average_gpa)/(len(gpa_list))\n",
    "        print(\"Average Gpa is \"+ str(average_gpa) )\n",
    "        print(\"Average grade is \"+str(average_grade))\n",
    "        count = 0\n",
    "        for gpa in gpa_x_axis:\n",
    "            print(\"Number of students got GPA \"+str(gpa)+\" is \"+str(gpa_y_axis[count]))\n",
    "            count+=1\n",
    "        plt.plot(gpa_x_axis,gpa_y_axis)\n",
    "        plt.show()\n",
    "        \n",
    "        \n",
    "        \n"
   ]
  },
  {
   "cell_type": "code",
   "execution_count": null,
   "id": "03fc5dc9-86a9-4c7a-a3f4-ca86722cfb05",
   "metadata": {},
   "outputs": [],
   "source": []
  }
 ],
 "metadata": {
  "kernelspec": {
   "display_name": "Python 3",
   "language": "python",
   "name": "python3"
  },
  "language_info": {
   "codemirror_mode": {
    "name": "ipython",
    "version": 3
   },
   "file_extension": ".py",
   "mimetype": "text/x-python",
   "name": "python",
   "nbconvert_exporter": "python",
   "pygments_lexer": "ipython3",
   "version": "3.8.8"
  }
 },
 "nbformat": 4,
 "nbformat_minor": 5
}
