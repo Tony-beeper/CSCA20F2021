{
 "cells": [
  {
   "cell_type": "code",
   "execution_count": 4,
   "id": "87741b91-948c-4573-b4d5-02b5ca7675bb",
   "metadata": {},
   "outputs": [
    {
     "name": "stdin",
     "output_type": "stream",
     "text": [
      "Please Enter a command A\n",
      "Please Enter a grade 5\n"
     ]
    },
    {
     "name": "stdout",
     "output_type": "stream",
     "text": [
      "FAIL\n"
     ]
    },
    {
     "name": "stdin",
     "output_type": "stream",
     "text": [
      "Please Enter a command A\n",
      "Please Enter a grade 81\n"
     ]
    },
    {
     "name": "stdout",
     "output_type": "stream",
     "text": [
      "PASS\n"
     ]
    },
    {
     "name": "stdin",
     "output_type": "stream",
     "text": [
      "Please Enter a command A\n",
      "Please Enter a grade 91\n"
     ]
    },
    {
     "name": "stdout",
     "output_type": "stream",
     "text": [
      "PASS\n"
     ]
    },
    {
     "name": "stdin",
     "output_type": "stream",
     "text": [
      "Please Enter a command R\n"
     ]
    },
    {
     "name": "stdout",
     "output_type": "stream",
     "text": [
      "You have entered 3 so far\n",
      "Number of passing grades is 2\n"
     ]
    },
    {
     "name": "stdin",
     "output_type": "stream",
     "text": [
      "Please Enter a command Q\n"
     ]
    }
   ],
   "source": [
    "command = \"default\"\n",
    "grades = []\n",
    "passing_counter = 0\n",
    "while(command!=(\"Q\")):\n",
    "    command = input(\"Please Enter a command\")\n",
    "    if(command == \"A\"):\n",
    "        grade = int(input(\"Please Enter a grade\"))\n",
    "        grades.append(grade)\n",
    "        if(grade >= 50):\n",
    "            passing_counter+=1\n",
    "            print(\"PASS\")\n",
    "        else:\n",
    "            print(\"FAIL\")\n",
    "\n",
    "    elif(command == \"R\"):\n",
    "\n",
    "        print(\"You have entered \"+str(len(grades))+\" so far\")\n",
    "        print(\"Number of passing grades is \"+ str(passing_counter))\n",
    "        \n",
    "        \n",
    "        \n"
   ]
  },
  {
   "cell_type": "code",
   "execution_count": null,
   "id": "c50b7187-1041-4a6b-a535-601b2e73d083",
   "metadata": {},
   "outputs": [],
   "source": []
  }
 ],
 "metadata": {
  "kernelspec": {
   "display_name": "Python 3",
   "language": "python",
   "name": "python3"
  },
  "language_info": {
   "codemirror_mode": {
    "name": "ipython",
    "version": 3
   },
   "file_extension": ".py",
   "mimetype": "text/x-python",
   "name": "python",
   "nbconvert_exporter": "python",
   "pygments_lexer": "ipython3",
   "version": "3.8.8"
  }
 },
 "nbformat": 4,
 "nbformat_minor": 5
}
