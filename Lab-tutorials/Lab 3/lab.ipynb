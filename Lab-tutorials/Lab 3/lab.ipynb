{
 "cells": [
  {
   "cell_type": "code",
   "execution_count": 13,
   "id": "5b7c3f76-7e29-4b3c-a0ce-c9e78a86449c",
   "metadata": {},
   "outputs": [
    {
     "name": "stdin",
     "output_type": "stream",
     "text": [
      "Please Enter a command Q\n"
     ]
    }
   ],
   "source": [
    "command = \"default\"\n",
    "grades = []\n",
    "gpa_list = []\n",
    "passing_counter = 0\n",
    "gpa = -1\n",
    "average_gpa = 0\n",
    "average_grade = 0\n",
    "while(command!=(\"Q\")):\n",
    "    command = input(\"Please Enter a command\")\n",
    "    if(command == \"A\"):\n",
    "        grade = int(input(\"Please Enter a grade\"))\n",
    "        if(grade <= 100 and grade >= 0):\n",
    "            grades.append(grade)\n",
    "            if(grade >= 50):\n",
    "                if(grade >= 85):\n",
    "                    gpa = 4.0\n",
    "                elif(grade >= 80):\n",
    "                    gpa = 3.7\n",
    "                elif(grade >= 77):\n",
    "                    gpa = 3.3\n",
    "                elif(grade >= 73):\n",
    "                    gpa = 3.0\n",
    "                elif(grade >= 70):\n",
    "                    gpa = 2.7\n",
    "                elif(grade >= 67):\n",
    "                    gpa = 2.3\n",
    "                elif(grade >= 63):\n",
    "                    gpa = 2.0\n",
    "                elif(grade >= 60):\n",
    "                    gpa = 1.7 \n",
    "                elif(grade >= 57):\n",
    "                    gpa = 1.3\n",
    "                elif(grade >= 53):\n",
    "                    gpa = 1.0\n",
    "                else:\n",
    "                    gpa = 0.7\n",
    "                passing_counter+=1\n",
    "                print(\"PASS, Your gpa is \"+str(gpa))\n",
    "                gpa_list.append(gpa)\n",
    "            else:\n",
    "                print(\"FAIL, Your gpa is 0\")\n",
    "        else:\n",
    "            print(\"Invalid Grade\")\n",
    "        \n",
    "\n",
    "    elif(command == \"R\"):\n",
    "\n",
    "        print(\"You have entered \"+str(len(grades))+\" valid grades so far\")\n",
    "        print(\"Number of passing grades is \"+ str(passing_counter))\n",
    "        for grade in grades:\n",
    "            average_grade += grade\n",
    "        average_grade = float(average_grade)/(len(grades))\n",
    "        for g in gpa_list:\n",
    "            average_gpa += g\n",
    "        average_gpa = float(average_gpa)/(len(gpa_list))\n",
    "        print(\"Average Gpa is \"+ str(average_gpa) )\n",
    "        print(\"Average grade is \"+str(average_grade))\n",
    "        \n",
    "        \n",
    "\n",
    "        \n"
   ]
  },
  {
   "cell_type": "code",
   "execution_count": null,
   "id": "91bcc36c-e4d9-475f-9d6f-28074e3d364e",
   "metadata": {},
   "outputs": [],
   "source": []
  },
  {
   "cell_type": "code",
   "execution_count": null,
   "id": "2822df85-d8a3-4935-b288-9ec816bd3a31",
   "metadata": {},
   "outputs": [],
   "source": []
  }
 ],
 "metadata": {
  "kernelspec": {
   "display_name": "Python 3",
   "language": "python",
   "name": "python3"
  },
  "language_info": {
   "codemirror_mode": {
    "name": "ipython",
    "version": 3
   },
   "file_extension": ".py",
   "mimetype": "text/x-python",
   "name": "python",
   "nbconvert_exporter": "python",
   "pygments_lexer": "ipython3",
   "version": "3.8.8"
  }
 },
 "nbformat": 4,
 "nbformat_minor": 5
}
