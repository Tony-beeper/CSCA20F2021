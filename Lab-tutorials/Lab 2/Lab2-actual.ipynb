{
 "cells": [
  {
   "cell_type": "code",
   "execution_count": 15,
   "id": "2497e4be-2a37-4686-a282-9d36532471a9",
   "metadata": {},
   "outputs": [
    {
     "name": "stdin",
     "output_type": "stream",
     "text": [
      "Choose a start year 1\n",
      "Choose an end year 2\n",
      "Please enter the average temperature in Jan of 1 1\n",
      "Please enter the average temperature in Feb of 1 1\n",
      "Please enter the average temperature in Mar of 1 1\n",
      "Please enter the average temperature in Apr of 1 1\n",
      "Please enter the average temperature in May of 1 1\n",
      "Please enter the average temperature in June of 1 1\n",
      "Please enter the average temperature in July of 1 1\n",
      "Please enter the average temperature in Aug of 1 1\n",
      "Please enter the average temperature in Sept of 1 1\n",
      "Please enter the average temperature in Oct of 1 1\n",
      "Please enter the average temperature in Nov of 1 1\n",
      "Please enter the average temperature in Dec of 1 1\n",
      "Please enter the average temperature in Jan of 2 2\n",
      "Please enter the average temperature in Feb of 2 8\n",
      "Please enter the average temperature in Mar of 2 8\n",
      "Please enter the average temperature in Apr of 2 8\n",
      "Please enter the average temperature in May of 2 8\n",
      "Please enter the average temperature in June of 2 8\n",
      "Please enter the average temperature in July of 2 8\n",
      "Please enter the average temperature in Aug of 2 8\n",
      "Please enter the average temperature in Sept of 2 8\n",
      "Please enter the average temperature in Oct of 2 8\n",
      "Please enter the average temperature in Nov of 2 8\n",
      "Please enter the average temperature in Dec of 2 8\n"
     ]
    },
    {
     "data": {
      "image/png": "[encoded data removed]",
      "text/plain": [
       "<Figure size 432x288 with 1 Axes>"
      ]
     },
     "metadata": {
      "needs_background": "light"
     },
     "output_type": "display_data"
    }
   ],
   "source": [
    "import matplotlib.pyplot as plt\n",
    "import random\n",
    "\n",
    "start = int(input(\"Choose a start year\"))\n",
    "end = int(input(\"Choose an end year\"))\n",
    "\n",
    "months = [\"Jan\", \"Feb\", \"Mar\", \"Apr\", \"May\", \"June\", \"July\", \"Aug\", \"Sept\", \"Oct\", \"Nov\", \"Dec\"]\n",
    "\n",
    "\n",
    "for year in range(start, end+1):\n",
    "    year_temp = []\n",
    "    for month in range(0,12):\n",
    "        month_temp = int(input(\"Please enter the average temperature in \"+str(months[month]+\" of \"+ str(year))))\n",
    "        year_temp.append(month_temp)\n",
    "    plt.plot(months, year_temp)\n",
    "\n",
    "plt.show()\n"
   ]
  },
  {
   "cell_type": "code",
   "execution_count": null,
   "id": "61f35f9b-903b-40a8-ba47-620cf6f480cc",
   "metadata": {},
   "outputs": [],
   "source": []
  }
 ],
 "metadata": {
  "kernelspec": {
   "display_name": "Python 3",
   "language": "python",
   "name": "python3"
  },
  "language_info": {
   "codemirror_mode": {
    "name": "ipython",
    "version": 3
   },
   "file_extension": ".py",
   "mimetype": "text/x-python",
   "name": "python",
   "nbconvert_exporter": "python",
   "pygments_lexer": "ipython3",
   "version": "3.8.8"
  }
 },
 "nbformat": 4,
 "nbformat_minor": 5
}
