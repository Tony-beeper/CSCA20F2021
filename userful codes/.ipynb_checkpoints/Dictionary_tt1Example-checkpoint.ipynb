{
 "cells": [
  {
   "cell_type": "code",
   "execution_count": 29,
   "id": "127e0bd0",
   "metadata": {},
   "outputs": [
    {
     "name": "stdout",
     "output_type": "stream",
     "text": [
      "['Noor', 'Tony', 'Brian', 'Nick', 'Angela']\n",
      "\n",
      "Use .tems() to iterate, you can access both key and value\n",
      "Contestants ['Noor', 'Tony', 'Brian', 'Nick', 'Angela']\n",
      "Wins [0, 0, 0, 0, 0]\n",
      "Losses [0, 0, 0, 0, 0]\n",
      "\n",
      "Iterate without .items, it only print out the key but not the value\n",
      "Contestants\n",
      "Wins\n",
      "Losses\n",
      "\n",
      "Modified dictionary after appending\n",
      "Contestants ['Noor', 'Tony', 'Brian', 'Nick', 'Angela', 'Saad']\n",
      "Wins [0, 0, 0, 0, 0, 0]\n",
      "Losses [0, 0, 0, 0, 0, 0]\n",
      "\n",
      "Match #1\n",
      "Noor vs Brian and Noor won\n",
      "Contestants ['Noor', 'Tony', 'Brian', 'Nick', 'Angela', 'Saad']\n",
      "Wins [1, 0, 0, 0, 0, 0]\n",
      "Losses [0, 0, 1, 0, 0, 0]\n",
      "\n",
      "ScoreBoard\n",
      "#minmic the behavior of parallel list\n",
      "Name: Noor, #Match Won: 1, # of match lost 0\n",
      "Name: Tony, #Match Won: 0, # of match lost 0\n",
      "Name: Brian, #Match Won: 0, # of match lost 1\n",
      "Name: Nick, #Match Won: 0, # of match lost 0\n",
      "Name: Angela, #Match Won: 0, # of match lost 0\n",
      "Name: Saad, #Match Won: 0, # of match lost 0\n"
     ]
    }
   ],
   "source": [
    "\n",
    "competition_dictionary = {'Contestants':['Noor','Tony','Brian','Nick','Angela'], 'Wins':[0, 0, 0, 0, 0], 'Losses':[0, 0, 0, 0, 0]}\n",
    "#Contestants, Wins, Losses are called keys in a dictionary\n",
    "#while ['Noor','Tony','Brian','Nick','Angela'], [0,0,0,0,0] are called values in the dictionary\n",
    "#One key is associate with only one value\n",
    "\n",
    "\n",
    "print(str(competition_dictionary['Contestants'])+\"\\n\")\n",
    "\n",
    "\n",
    "print(\"Use .tems() to iterate, you can access both key and value\")\n",
    "for key, value in competition_dictionary.items():\n",
    "    print(key, value)\n",
    "    \n",
    "print()\n",
    "print(\"Iterate without .items, it only print out the key but not the value\")\n",
    "\n",
    "for thing in competition_dictionary:\n",
    "    print(thing)\n",
    "    \n",
    "print()\n",
    "#To modify value in dictionary\n",
    "#dictionary is mutable\n",
    "competition_dictionary['Contestants'].append('Saad')\n",
    "competition_dictionary['Wins'].append(0)\n",
    "competition_dictionary['Losses'].append(0)\n",
    "print(\"Modified dictionary after appending\")\n",
    "for key, value in competition_dictionary.items():\n",
    "    print(key, value)\n",
    "print()\n",
    "\n",
    "#do a match now.\n",
    "#dictionary is mutable so you can alter it right the way\n",
    "print(\"Match #1\")\n",
    "print(\"Noor vs Brian and Noor won\")\n",
    "competition_dictionary['Wins'][0]+=1\n",
    "competition_dictionary['Losses'][2]+=1\n",
    "for key, value in competition_dictionary.items():\n",
    "    print(key, value)\n",
    "    \n",
    "\n",
    "print()\n",
    "#now minmic the behavior of parallel list\n",
    "print(\"ScoreBoard\\n#minmic the behavior of parallel list\")\n",
    "for i in range(len(competition_dictionary['Contestants'])):\n",
    "    print(\"Name: \" + str(competition_dictionary['Contestants'][i])+\n",
    "          \", #Match Won: \"+ str(competition_dictionary['Wins'][i])+\n",
    "          \", # of match lost \"+str(competition_dictionary['Losses'][i]))\n"
   ]
  },
  {
   "cell_type": "code",
   "execution_count": null,
   "id": "8d606b1b",
   "metadata": {},
   "outputs": [],
   "source": []
  },
  {
   "cell_type": "code",
   "execution_count": null,
   "id": "e7f255ad",
   "metadata": {},
   "outputs": [],
   "source": []
  }
 ],
 "metadata": {
  "kernelspec": {
   "display_name": "Python 3",
   "language": "python",
   "name": "python3"
  },
  "language_info": {
   "codemirror_mode": {
    "name": "ipython",
    "version": 3
   },
   "file_extension": ".py",
   "mimetype": "text/x-python",
   "name": "python",
   "nbconvert_exporter": "python",
   "pygments_lexer": "ipython3",
   "version": "3.8.8"
  }
 },
 "nbformat": 4,
 "nbformat_minor": 5
}
