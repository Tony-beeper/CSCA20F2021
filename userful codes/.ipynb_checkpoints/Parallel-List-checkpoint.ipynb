{
 "cells": [
  {
   "cell_type": "code",
   "execution_count": 1,
   "id": "6f273cb7",
   "metadata": {},
   "outputs": [
    {
     "name": "stdout",
     "output_type": "stream",
     "text": [
      "Please Enter a grade, and I will give back your corresponding GPA4\n",
      "Da GPA is: 0\n"
     ]
    }
   ],
   "source": [
    "\n",
    "\n",
    "gpa_checkpoints = [4.0, 3.7, 3.3, 3.0, 2.7, 2.3, 2.0, 1.7, 1.3, 1.0, 0.7, 0] # two lists with the same size, their indexes one to one \n",
    "average_checkpoints = [85, 80, 77, 73, 70, 67, 63, 60, 57, 53, 50, 0] # e.g 0 index, check if it's greater than 85, if so, then gpa is 4\n",
    "\n",
    "grade = int(input(\"Please Enter a grade, and I will give back your corresponding GPA\"))\n",
    "gpa = -1\n",
    "for i in range(0, len(gpa_checkpoints)):\n",
    "    if(average_checkpoints[i] <= grade):\n",
    "        gpa = gpa_checkpoints[i]\n",
    "        break\n",
    "        \n",
    "        \n",
    "print(\"The GPA is: \"+str(gpa))\n",
    "                        \n",
    "        \n",
    "        \n"
   ]
  },
  {
   "cell_type": "code",
   "execution_count": null,
   "id": "2b1837bd",
   "metadata": {},
   "outputs": [],
   "source": []
  }
 ],
 "metadata": {
  "kernelspec": {
   "display_name": "Python 3",
   "language": "python",
   "name": "python3"
  },
  "language_info": {
   "codemirror_mode": {
    "name": "ipython",
    "version": 3
   },
   "file_extension": ".py",
   "mimetype": "text/x-python",
   "name": "python",
   "nbconvert_exporter": "python",
   "pygments_lexer": "ipython3",
   "version": "3.8.8"
  }
 },
 "nbformat": 4,
 "nbformat_minor": 5
}
