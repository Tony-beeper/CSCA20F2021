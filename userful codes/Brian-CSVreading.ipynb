{
 "cells": [
  {
   "cell_type": "code",
   "execution_count": 16,
   "id": "2c6794ea-724a-4375-b7cc-4ded3a670793",
   "metadata": {},
   "outputs": [],
   "source": [
    "import csv\n",
    "input_handle = open(\"students.csv\", \"r\")\n",
    "csv_reader = csv.DictReader(input_handle)\n",
    "\n",
    "major_to_count = {}\n",
    "\n",
    "for next_row in csv_reader:\n",
    "    if(next_row['Major'] in major_to_count):\n",
    "        major_to_count[next_row['Major']] += 1\n",
    "    else:\n",
    "        major_to_count[next_row['Major']] = 1\n",
    "input_handle.close()\n",
    "\n",
    "output_handle = open(\"majors.csv\", \"w\")\n",
    "csv_writer = csv.DictWriter(output_handle, fieldnames=['Code', 'Count'])\n",
    "csv_writer.writeheader()\n",
    "for next_code in major_to_count:\n",
    "    csv_writer.writerow({'Code':next_code, 'Count': major_to_count[next_code]})\n",
    "\n",
    "output_handle.close()\n"
   ]
  },
  {
   "cell_type": "code",
   "execution_count": null,
   "id": "d5cda910-fa79-4be8-9b90-f74fc2c39b1a",
   "metadata": {},
   "outputs": [],
   "source": []
  }
 ],
 "metadata": {
  "kernelspec": {
   "display_name": "Python 3",
   "language": "python",
   "name": "python3"
  },
  "language_info": {
   "codemirror_mode": {
    "name": "ipython",
    "version": 3
   },
   "file_extension": ".py",
   "mimetype": "text/x-python",
   "name": "python",
   "nbconvert_exporter": "python",
   "pygments_lexer": "ipython3",
   "version": "3.8.8"
  }
 },
 "nbformat": 4,
 "nbformat_minor": 5
}
