{
 "cells": [
  {
   "cell_type": "code",
   "execution_count": 3,
   "id": "fd1dd028",
   "metadata": {},
   "outputs": [
    {
     "name": "stdout",
     "output_type": "stream",
     "text": [
      "[0, 0]\n",
      "\n",
      "Use .tems() to iterate, you can access both key and value\n",
      "ScoreBoard\n",
      "#minmic the behavior of parallel list\n",
      "Player: Noor Win/Loss list: [0, 0]\n",
      "Player: Tony Win/Loss list: [0, 0]\n",
      "Player: Brian Win/Loss list: [0, 0]\n",
      "Player: Nick Win/Loss list: [0, 0]\n",
      "\n",
      "Iterate without .items, it only print out the key but not the value\n",
      "Noor\n",
      "Tony\n",
      "Brian\n",
      "Nick\n",
      "\n",
      "Modified dictionary after appending player Saad\n",
      "Player: Noor Win/Loss list: [0, 0]\n",
      "Player: Tony Win/Loss list: [0, 0]\n",
      "Player: Brian Win/Loss list: [0, 0]\n",
      "Player: Nick Win/Loss list: [0, 0]\n",
      "Player: Saad Win/Loss list: [0, 0]\n",
      "\n",
      "Match #1\n",
      "Noor vs Brian and Noor won\n",
      "Player: Noor Win/Loss list: [1, 0]\n",
      "Player: Tony Win/Loss list: [0, 0]\n",
      "Player: Brian Win/Loss list: [0, 1]\n",
      "Player: Nick Win/Loss list: [0, 0]\n",
      "Player: Saad Win/Loss list: [0, 0]\n",
      "\n"
     ]
    }
   ],
   "source": [
    "\n",
    "competition_dictionary = {'Noor':[0,0], 'Tony':[0,0], 'Brian':[0,0], 'Nick':[0,0]}\n",
    "#Contestants, Wins, Losses are called keys in a dictionary\n",
    "#while ['Noor','Tony','Brian','Nick','Angela'], [0,0,0,0,0] are called values in the dictionary\n",
    "#One key is associate with only one value\n",
    "\n",
    "\n",
    "print(str(competition_dictionary['Noor'])+\"\\n\")\n",
    "\n",
    "\n",
    "print(\"Use .tems() to iterate, you can access both key and value\")\n",
    "print(\"ScoreBoard\\n#minmic the behavior of parallel list\")\n",
    "for key, value in competition_dictionary.items():\n",
    "    print(\"Player: \"+str(key)+\" Win/Loss list: \" + str(value))\n",
    "    \n",
    "print()\n",
    "print(\"Iterate without .items, it only print out the key but not the value\")\n",
    "\n",
    "for thing in competition_dictionary:\n",
    "    print(thing)\n",
    "    \n",
    "print()\n",
    "#To modify value in dictionary\n",
    "#dictionary is mutable\n",
    "competition_dictionary['Saad'] = [0,0]\n",
    "print(\"Modified dictionary after appending player Saad\")\n",
    "for key, value in competition_dictionary.items():\n",
    "    print(\"Player: \"+str(key)+\" Win/Loss list: \" + str(value))\n",
    "print()\n",
    "\n",
    "#do a match now.\n",
    "#dictionary is mutable so you can alter it right the way\n",
    "print(\"Match #1\")\n",
    "print(\"Noor vs Brian and Noor won\")\n",
    "competition_dictionary['Noor'][0]+=1\n",
    "competition_dictionary['Brian'][1]+=1\n",
    "for key, value in competition_dictionary.items():\n",
    "    print(\"Player: \"+str(key)+\" Win/Loss list: \" + str(value))\n",
    "    \n",
    "\n",
    "print()\n",
    "#now minmic the behavior of parallel list\n"
   ]
  },
  {
   "cell_type": "code",
   "execution_count": null,
   "id": "5a657752",
   "metadata": {},
   "outputs": [],
   "source": []
  }
 ],
 "metadata": {
  "kernelspec": {
   "display_name": "Python 3",
   "language": "python",
   "name": "python3"
  },
  "language_info": {
   "codemirror_mode": {
    "name": "ipython",
    "version": 3
   },
   "file_extension": ".py",
   "mimetype": "text/x-python",
   "name": "python",
   "nbconvert_exporter": "python",
   "pygments_lexer": "ipython3",
   "version": "3.8.8"
  }
 },
 "nbformat": 4,
 "nbformat_minor": 5
}
