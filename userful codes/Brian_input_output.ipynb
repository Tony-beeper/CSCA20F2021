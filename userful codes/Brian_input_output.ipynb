{
 "cells": [
  {
   "cell_type": "code",
   "execution_count": 17,
   "id": "d1ed25f8-62ca-4679-8c8b-8c66aec1e7b5",
   "metadata": {},
   "outputs": [
    {
     "name": "stdout",
     "output_type": "stream",
     "text": [
      "['Hello']\n",
      "['This', 'is', 'plain', 'text']\n",
      "['']\n",
      "['I', 'am', 'writing', 'in', 'here']\n",
      "['I', 'have', 'no', 'fonts', 'or', 'colours', 'or', 'sizes']\n",
      "['']\n",
      "['Have', 'a', 'nice', 'day']\n"
     ]
    }
   ],
   "source": [
    "my_file = open(\"input_file.txt\", \"r\")\n",
    "for next_line in my_file:\n",
    "    print(next_line.strip().split(\" \"))\n",
    "my_file.close()"
   ]
  },
  {
   "cell_type": "code",
   "execution_count": 19,
   "id": "2bdb7e6b-c0d0-4199-8808-eb76e0770c5e",
   "metadata": {},
   "outputs": [],
   "source": [
    "my_file = open(\"output_file.txt\", \"w\")\n",
    "my_file.write(\"Hello\\n\")\n",
    "my_file.write(\"This is an output file\\n\")\n",
    "my_file.write(\"Have a nice day\\n\")\n",
    "my_file.close()"
   ]
  },
  {
   "cell_type": "code",
   "execution_count": null,
   "id": "2c6794ea-724a-4375-b7cc-4ded3a670793",
   "metadata": {},
   "outputs": [],
   "source": []
  }
 ],
 "metadata": {
  "kernelspec": {
   "display_name": "Python 3",
   "language": "python",
   "name": "python3"
  },
  "language_info": {
   "codemirror_mode": {
    "name": "ipython",
    "version": 3
   },
   "file_extension": ".py",
   "mimetype": "text/x-python",
   "name": "python",
   "nbconvert_exporter": "python",
   "pygments_lexer": "ipython3",
   "version": "3.8.8"
  }
 },
 "nbformat": 4,
 "nbformat_minor": 5
}
